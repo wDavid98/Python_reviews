{
 "cells": [
  {
   "cell_type": "markdown",
   "metadata": {},
   "source": [
    "# Python Data Structures"
   ]
  },
  {
   "cell_type": "markdown",
   "metadata": {},
   "source": [
    "## Lists\n",
    "\n",
    "- Python Lists are ordered collections of data just like arrays in other programming languages. \n",
    "\n",
    "- It allows different types of elements in the list.\n",
    "\n",
    "- The costly operation is inserting or deleting the element from the beginning of the List as all the elements are needed to be shifted. \n",
    "\n",
    "- Insertion and deletion at the end of the list can also become costly in the case where the preallocated memory becomes full. "
   ]
  },
  {
   "cell_type": "code",
   "execution_count": 1,
   "metadata": {},
   "outputs": [
    {
     "name": "stdout",
     "output_type": "stream",
     "text": [
      "\n",
      "List containing multiple values: \n",
      "['Geeks', 'For', 'Geeks']\n",
      "\n",
      "Multi-Dimensional List: \n",
      "[['Geeks', 'For'], ['Geeks']]\n",
      "Accessing element from the list\n",
      "Geeks\n",
      "Geeks\n",
      "Accessing element using negative indexing\n",
      "Geeks\n",
      "Geeks\n"
     ]
    }
   ],
   "source": [
    "# Creating a List with\n",
    "# the use of multiple values\n",
    "List = [\"Geeks\", \"For\", \"Geeks\"]\n",
    "print(\"\\nList containing multiple values: \")\n",
    "print(List)\n",
    "\n",
    "# Creating a Multi-Dimensional List\n",
    "# (By Nesting a list inside a List)\n",
    "List2 = [['Geeks', 'For'], ['Geeks']]\n",
    "print(\"\\nMulti-Dimensional List: \")\n",
    "print(List2)\n",
    "\n",
    "# accessing a element from the\n",
    "# list using index number\n",
    "print(\"Accessing element from the list\")\n",
    "print(List[0])\n",
    "print(List[2])\n",
    "\n",
    "# accessing a element using\n",
    "# negative indexing\n",
    "print(\"Accessing element using negative indexing\")\n",
    "    \n",
    "# print the last element of list\n",
    "print(List[-1])\n",
    "    \n",
    "# print the third last element of list\n",
    "print(List[-3])"
   ]
  },
  {
   "cell_type": "markdown",
   "metadata": {},
   "source": [
    "## Tuples\n",
    "\n",
    "- Python tuples are similar to lists but Tuples are immutable in nature, once created it cannot be modified\n",
    "- Tuple can also contain elements of various types.\n",
    "- Tuples are created by placing a sequence of values separated by ‘comma’ with or without the use of parentheses for grouping of the data sequence."
   ]
  },
  {
   "cell_type": "code",
   "execution_count": 2,
   "metadata": {},
   "outputs": [
    {
     "name": "stdout",
     "output_type": "stream",
     "text": [
      "\n",
      "Tuple with the use of String: \n",
      "('Geeks', 'For')\n",
      "\n",
      "Tuple using List: \n",
      "First element of tuple\n",
      "1\n",
      "\n",
      "Last element of tuple\n",
      "6\n",
      "\n",
      "Third last element of tuple\n",
      "4\n"
     ]
    }
   ],
   "source": [
    "# Creating a Tuple with\n",
    "# the use of Strings\n",
    "Tuple = ('Geeks', 'For')\n",
    "print(\"\\nTuple with the use of String: \")\n",
    "print(Tuple)\n",
    "    \n",
    "# Creating a Tuple with\n",
    "# the use of list\n",
    "list1 = [1, 2, 4, 5, 6]\n",
    "print(\"\\nTuple using List: \")\n",
    "Tuple = tuple(list1)\n",
    "\n",
    "# Accessing element using indexing\n",
    "print(\"First element of tuple\")\n",
    "print(Tuple[0])\n",
    "\n",
    "# Accessing element from last\n",
    "# negative indexing\n",
    "print(\"\\nLast element of tuple\")\n",
    "print(Tuple[-1])\n",
    "\n",
    "print(\"\\nThird last element of tuple\")\n",
    "print(Tuple[-3])"
   ]
  },
  {
   "cell_type": "markdown",
   "metadata": {},
   "source": [
    "## Sets\n",
    "- Mutable collection of data that does not allow any duplication\n",
    "- While you cannot modify the individual elements directly, you can still add or remove elements from the set.\n",
    "- No duplicate elements. If try to insert the same item again, it overwrites previous one.\n",
    "- An unordered collection. When we access all items, they are accessed without any specific order and we cannot access items using indexes as we do in lists.\n",
    "- If multiple values are present at the same index position, then the value is appended to that index position, to form a Linked List\n",
    "- There is no specific order for set elements to be printed"
   ]
  },
  {
   "cell_type": "markdown",
   "metadata": {},
   "source": [
    "- Internally use hashing that makes set efficient for search, insert and delete operations. It gives a major advantage over a list for problems with these operations.\n",
    "\n",
    "**Hashing** is a technique used in data structures that efficiently stores and retrieves data in a way that allows for quick access.\n",
    "\n",
    "- Hashing involves mapping data to a specific index in a hash table (an array of items) using a hash function that enables fast retrieval of information based on its key.\n",
    "- The great thing about hashing is, we can achieve all three operations (search, insert and delete) in O(1) time on average.\n",
    "- Hashing is mainly used to implement a set of distinct items and dictionaries (key value pairs)."
   ]
  },
  {
   "cell_type": "markdown",
   "metadata": {},
   "source": [
    "### Set implementation\n",
    "<center>\n",
    "<img src=\"https://media.geeksforgeeks.org/wp-content/uploads/HashTable.png\" style=\"width:350px;heigth:50px\">\n",
    "</center>"
   ]
  },
  {
   "cell_type": "markdown",
   "metadata": {},
   "source": [
    "### Sets with Numerous operations on a single HashTable\n",
    "<center>\n",
    "<img src=\"https://media.geeksforgeeks.org/wp-content/uploads/Hasing-Python.png\" style=\"width:525px;heigth:75px\">\n",
    "</center>"
   ]
  },
  {
   "cell_type": "code",
   "execution_count": 13,
   "metadata": {},
   "outputs": [
    {
     "name": "stdout",
     "output_type": "stream",
     "text": [
      "\n",
      "Set with the use of Mixed Values\n",
      "{1, 2, 4, 6, 'For', 'Geeks'}\n",
      "\n",
      "Elements of set: \n",
      "1 2 4 6 For Geeks \n",
      "True\n",
      "{'c', 'b', 'a'}\n",
      "{'c', 'b', 'd', 'a'}\n",
      "{'Geeks', 'for'}\n"
     ]
    }
   ],
   "source": [
    "Set = set([1, 2, 'Geeks', 4, 'For', 6, 'Geeks'])\n",
    "print(\"\\nSet with the use of Mixed Values\")\n",
    "print(Set)\n",
    "\n",
    "# Accessing element using\n",
    "# for loop\n",
    "print(\"\\nElements of set: \")\n",
    "for i in Set:\n",
    "    print(i, end =\" \")\n",
    "print()\n",
    "\n",
    "# Checking the element\n",
    "# using in keyword\n",
    "print(\"Geeks\" in Set)\n",
    "\n",
    "\n",
    "# typecasting list to set\n",
    "s = set([\"a\", \"b\", \"c\"])\n",
    "print(s)\n",
    "\n",
    "# Adding element to the set\n",
    "s.add(\"d\")\n",
    "print(s)\n",
    "\n",
    "# a set cannot have duplicate values\n",
    "s = {\"Geeks\", \"for\", \"Geeks\"}\n",
    "print(s)\n",
    "\n",
    "# values of a set cannot be changed\n",
    "#s[1] = \"Hello\"\n",
    "#print(s)"
   ]
  },
  {
   "cell_type": "markdown",
   "metadata": {},
   "source": [
    "## Frozen Sets\n",
    "\n",
    "Frozen sets in Python are immutable objects that only support methods and operators that produce a result without affecting the frozen set or sets to which they are applied. While elements of a set can be modified at any time, elements of the frozen set remain the same after creation."
   ]
  },
  {
   "cell_type": "code",
   "execution_count": 14,
   "metadata": {},
   "outputs": [
    {
     "name": "stdout",
     "output_type": "stream",
     "text": [
      "Normal Set\n",
      "{'c', 'b', 'a'}\n",
      "\n",
      "Frozen Set\n",
      "frozenset({'f', 'g', 'e'})\n"
     ]
    }
   ],
   "source": [
    "# Same as {\"a\", \"b\",\"c\"}\n",
    "normal_set = set([\"a\", \"b\",\"c\"])\n",
    "\n",
    "print(\"Normal Set\")\n",
    "print(normal_set)\n",
    "\n",
    "# A frozen set\n",
    "frozen_set = frozenset([\"e\", \"f\", \"g\"])\n",
    "\n",
    "print(\"\\nFrozen Set\")\n",
    "print(frozen_set)\n",
    "\n",
    "# Uncommenting below line would cause error as\n",
    "# we are trying to add element to a frozen set\n",
    "# frozen_set.add(\"h\")"
   ]
  },
  {
   "cell_type": "markdown",
   "metadata": {},
   "source": [
    "## String\n",
    "\n",
    "- **Immutable array** of bytes representing Unicode characters\n",
    "- Python does not have a character data type, a single character is simply a string with a length of 1.\n",
    "- As strings are immutable, modifying a string will result in creating a **new copy**"
   ]
  },
  {
   "cell_type": "code",
   "execution_count": 15,
   "metadata": {},
   "outputs": [
    {
     "name": "stdout",
     "output_type": "stream",
     "text": [
      "Creating String: \n",
      "Welcome to GeeksForGeeks\n",
      "\n",
      "First character of String is: \n",
      "W\n",
      "\n",
      "Last character of String is: \n",
      "s\n"
     ]
    }
   ],
   "source": [
    "String = \"Welcome to GeeksForGeeks\"\n",
    "print(\"Creating String: \")\n",
    "print(String)\n",
    "    \n",
    "# Printing First character\n",
    "print(\"\\nFirst character of String is: \")\n",
    "print(String[0])\n",
    "    \n",
    "# Printing Last character\n",
    "print(\"\\nLast character of String is: \")\n",
    "print(String[-1])"
   ]
  },
  {
   "cell_type": "markdown",
   "metadata": {},
   "source": [
    "## Dictionary \n",
    "\n",
    "- Unordered collection of data that stores data in the format of key:value\n",
    "- Values in a dictionary can be of any data type and can be duplicated\n",
    "- keys can’t be repeated and must be immutable. Dictionary keys are case sensitive: the same name but different cases of Key will be treated distinctly.\n",
    "- Python dictionary are Ordered. (Python 3.7+)\n",
    "- Dictionary internally uses Hashing. Hence, operations like search, insert, delete can be performed in Constant Time."
   ]
  },
  {
   "cell_type": "code",
   "execution_count": 20,
   "metadata": {},
   "outputs": [
    {
     "name": "stdout",
     "output_type": "stream",
     "text": [
      "Creating Dictionary: \n",
      "{'Name': 'Geeks', 1: [1, 2, 3, 4]}\n",
      "Accessing a element using key:\n",
      "Geeks\n",
      "Accessing a element using get:\n",
      "[1, 2, 3, 4]\n",
      "Geeks\n",
      "{1: 1, 2: 4, 3: 9, 4: 16, 5: 25}\n",
      "{1: 'Python dict', 2: 'For', 3: 'Geeks', 'age': 22}\n",
      "{1: 'Geeks', 2: 'For', 3: 'Geeks'}\n",
      "Geeks\n",
      "Key: 3, Value: Geeks\n",
      "{}\n"
     ]
    }
   ],
   "source": [
    "# Creating a Dictionary\n",
    "Dict = {'Name': 'Geeks', 1: [1, 2, 3, 4]}\n",
    "print(\"Creating Dictionary: \")\n",
    "print(Dict)\n",
    "\n",
    "# accessing a element using key\n",
    "print(\"Accessing a element using key:\")\n",
    "print(Dict['Name'])\n",
    "\n",
    "# accessing a element using get()\n",
    "# method\n",
    "print(\"Accessing a element using get:\")\n",
    "print(Dict.get(1))\n",
    "print(Dict.get('Name'))\n",
    "\n",
    "# creation using Dictionary comprehension\n",
    "myDict = {x: x**2 for x in [1,2,3,4,5]}\n",
    "print(myDict)\n",
    "\n",
    "# We can add new key-value pairs or update existing keys by using assignment.\n",
    "d = {1: 'Geeks', 2: 'For', 3: 'Geeks'}\n",
    "\n",
    "# Adding a new key-value pair\n",
    "d[\"age\"] = 22\n",
    "\n",
    "# Updating an existing value\n",
    "d[1] = \"Python dict\"\n",
    "\n",
    "print(d)\n",
    "\n",
    "# We can remove items from dictionary using the following methods:\n",
    "d = {1: 'Geeks', 2: 'For', 3: 'Geeks', 'age':22}\n",
    "\n",
    "# Using del to remove an item\n",
    "del d[\"age\"]\n",
    "print(d)\n",
    "\n",
    "# Using pop() to remove an item and return the value\n",
    "val = d.pop(1)\n",
    "print(val)\n",
    "\n",
    "# Using popitem to removes and returns\n",
    "# the last key-value pair.\n",
    "key, val = d.popitem()\n",
    "print(f\"Key: {key}, Value: {val}\")\n",
    "\n",
    "# Clear all items from the dictionary\n",
    "d.clear()\n",
    "print(d)"
   ]
  },
  {
   "cell_type": "code",
   "execution_count": 21,
   "metadata": {},
   "outputs": [
    {
     "name": "stdout",
     "output_type": "stream",
     "text": [
      "1\n",
      "2\n",
      "age\n",
      "Geeks\n",
      "For\n",
      "22\n",
      "1: Geeks\n",
      "2: For\n",
      "age: 22\n"
     ]
    }
   ],
   "source": [
    "d = {1: 'Geeks', 2: 'For', 'age':22}\n",
    "\n",
    "# Iterate over keys\n",
    "for key in d:\n",
    "    print(key)\n",
    "\n",
    "# Iterate over values\n",
    "for value in d.values():\n",
    "    print(value)\n",
    "\n",
    "# Iterate over key-value pairs\n",
    "for key, value in d.items():\n",
    "    print(f\"{key}: {value}\")"
   ]
  },
  {
   "cell_type": "markdown",
   "metadata": {},
   "source": [
    "## Matrix\n",
    "\n",
    "- A matrix is a 2D array where each element is of strictly the same size.\n"
   ]
  },
  {
   "cell_type": "code",
   "execution_count": 22,
   "metadata": {},
   "outputs": [
    {
     "name": "stdout",
     "output_type": "stream",
     "text": [
      "[[ 1  2  3  4]\n",
      " [ 4 55  1  2]\n",
      " [ 8  3 20 19]\n",
      " [11  2 22 21]]\n",
      "\n",
      "Accessing Elements\n",
      "[ 4 55  1  2]\n",
      "8\n",
      "\n",
      "Adding Element\n",
      "[[ 1  2  3  4]\n",
      " [ 4 55  1  2]\n",
      " [ 8  3 20 19]\n",
      " [11  2 22 21]\n",
      " [ 1 15 13 11]]\n",
      "\n",
      "Deleting Element\n",
      "[[ 1  2  3  4]\n",
      " [ 8  3 20 19]\n",
      " [11  2 22 21]\n",
      " [ 1 15 13 11]]\n"
     ]
    }
   ],
   "source": [
    "import numpy as np\n",
    "\n",
    "a = np.array([[1,2,3,4],[4,55,1,2],\n",
    "              [8,3,20,19],[11,2,22,21]])\n",
    "m = np.reshape(a,(4, 4))\n",
    "print(m)\n",
    "\n",
    "# Accessing element\n",
    "print(\"\\nAccessing Elements\")\n",
    "print(a[1])\n",
    "print(a[2][0])\n",
    "\n",
    "# Adding Element\n",
    "m = np.append(m,[[1, 15,13,11]],0)\n",
    "print(\"\\nAdding Element\")\n",
    "print(m)\n",
    "\n",
    "# Deleting Element\n",
    "m = np.delete(m,[1],0)\n",
    "print(\"\\nDeleting Element\")\n",
    "print(m)"
   ]
  },
  {
   "cell_type": "markdown",
   "metadata": {},
   "source": [
    "## Linked List\n",
    "\n",
    "- A linked list is a linear data structure\n",
    "- The elements are not stored at contiguous memory locations. The elements in a linked list are linked using pointers\n",
    "- A linked list is represented by a pointer to the first node of the linked list\n",
    "- The first node is called the head.\n",
    "- If the linked list is empty, then the value of the head is NULL.\n",
    "- Each node in a list consists of at least two parts:"
   ]
  },
  {
   "cell_type": "code",
   "execution_count": 23,
   "metadata": {},
   "outputs": [],
   "source": [
    "# Node class\n",
    "class Node:\n",
    "    # Function to initialize the node object\n",
    "    def __init__(self, data):\n",
    "        self.data = data # Assign data\n",
    "        self.next = None # Initialize\n",
    "                        # next as null\n",
    "\n",
    "# Linked List class\n",
    "class LinkedList:    \n",
    "    # Function to initialize the Linked\n",
    "    # List object\n",
    "    def __init__(self):\n",
    "        self.head = None"
   ]
  },
  {
   "cell_type": "code",
   "execution_count": 25,
   "metadata": {},
   "outputs": [],
   "source": [
    "# Code execution starts here\n",
    "if __name__=='__main__':\n",
    "\n",
    "    # Start with the empty list\n",
    "    llist = LinkedList()\n",
    "\n",
    "    llist.head = Node(1)\n",
    "    second = Node(2)\n",
    "    third = Node(3)   \n",
    "    \n",
    "\n",
    "    llist.head.next = second; # Link first node with second\n",
    "\n",
    "    \n",
    "    second.next = third; # Link second node with the third node\n",
    "\n",
    "    "
   ]
  },
  {
   "cell_type": "markdown",
   "metadata": {},
   "source": [
    "### Linked List Traversal \n",
    "Let us traverse the created list and print the data of each node"
   ]
  },
  {
   "cell_type": "code",
   "execution_count": 26,
   "metadata": {},
   "outputs": [
    {
     "name": "stdout",
     "output_type": "stream",
     "text": [
      "1\n",
      "2\n",
      "3\n"
     ]
    }
   ],
   "source": [
    "# Node class\n",
    "class Node:\n",
    "\n",
    "    # Function to initialise the node object\n",
    "    def __init__(self, data):\n",
    "        self.data = data # Assign data\n",
    "        self.next = None # Initialize next as null\n",
    "\n",
    "\n",
    "# Linked List class contains a Node object\n",
    "class LinkedList:\n",
    "\n",
    "    # Function to initialize head\n",
    "    def __init__(self):\n",
    "        self.head = None\n",
    "\n",
    "    # This function prints contents of linked list\n",
    "    # starting from head\n",
    "    def printList(self):\n",
    "        temp = self.head\n",
    "        while (temp):\n",
    "            print (temp.data)\n",
    "            temp = temp.next\n",
    "\n",
    "\n",
    "# Code execution starts here\n",
    "if __name__=='__main__':\n",
    "\n",
    "    # Start with the empty list\n",
    "    llist = LinkedList()\n",
    "\n",
    "    llist.head = Node(1)\n",
    "    second = Node(2)\n",
    "    third = Node(3)\n",
    "\n",
    "    llist.head.next = second; # Link first node with second\n",
    "    second.next = third; # Link second node with the third node\n",
    "\n",
    "    llist.printList()"
   ]
  },
  {
   "cell_type": "markdown",
   "metadata": {},
   "source": []
  },
  {
   "cell_type": "markdown",
   "metadata": {},
   "source": [
    "## Stack\n",
    "\n",
    "- linear data structure that stores items in a Last-In/First-Out (LIFO) or First-In/Last-Out (FILO) manner\n",
    "- A new element is added at one end and an element is removed from that end only\n",
    "- The insert and delete operations are often called push and pop.\n",
    "\n",
    "<center>\n",
    "<img src=\"https://media.geeksforgeeks.org/wp-content/cdn-uploads/gq/2013/03/stack.png\" style=\"width:525px;heigth:75px\">\n",
    "</center>\n",
    "\n",
    "\n",
    "**The functions associated with stack are:**\n",
    "\n",
    "- **empty()** – Returns whether the stack is empty – Time Complexity: O(1)\n",
    "- **size()** – Returns the size of the stack – Time Complexity: O(1)\n",
    "- **top()** – Returns a reference to the topmost element of the stack – Time Complexity: O(1)\n",
    "- **push(a)** – Inserts the element ‘a’ at the top of the stack – Time Complexity: O(1)\n",
    "- **pop()** – Deletes the topmost element of the stack – Time Complexity: O(1)"
   ]
  },
  {
   "cell_type": "code",
   "execution_count": 27,
   "metadata": {},
   "outputs": [
    {
     "name": "stdout",
     "output_type": "stream",
     "text": [
      "Initial stack\n",
      "['g', 'f', 'g']\n",
      "\n",
      "Elements popped from stack:\n",
      "g\n",
      "f\n",
      "g\n",
      "\n",
      "Stack after elements are popped:\n",
      "[]\n"
     ]
    }
   ],
   "source": [
    "stack = []\n",
    "\n",
    "# append() function to push\n",
    "# element in the stack\n",
    "stack.append('g')\n",
    "stack.append('f')\n",
    "stack.append('g')\n",
    "\n",
    "print('Initial stack')\n",
    "print(stack)\n",
    "\n",
    "# pop() function to pop\n",
    "# element from stack in\n",
    "# LIFO order\n",
    "print('\\nElements popped from stack:')\n",
    "print(stack.pop())\n",
    "print(stack.pop())\n",
    "print(stack.pop())\n",
    "\n",
    "print('\\nStack after elements are popped:')\n",
    "print(stack)\n",
    "\n",
    "# uncommenting print(stack.pop())\n",
    "# will cause an IndexError\n",
    "# as the stack is now empty"
   ]
  },
  {
   "cell_type": "markdown",
   "metadata": {},
   "source": [
    "## Queue (Fila)\n",
    "\n",
    "- The queue is a linear data structure that stores items in a First In First Out (FIFO) manner\n",
    "\n",
    "<center>\n",
    "<img src=\"https://media.geeksforgeeks.org/wp-content/cdn-uploads/gq/2014/02/Queue.png\" style=\"width:525px;heigth:75px\">\n",
    "</center>\n",
    "\n",
    "**Operations associated with queue are:**\n",
    "\n",
    "- **Enqueue** Adds an item to the queue. If the queue is full, then it is said to be an Overflow condition – Time Complexity: O(1)\n",
    "- **Dequeue**: Removes an item from the queue. The items are popped in the same order in which they are pushed. If the queue is empty,then it is said to be an Underflow condition – Time Complexity: O(1)\n",
    "- **Front**: Get the front item from queue – Time Complexity: O(1)\n",
    "- **Rear**: Get the last item from queue – Time Complexity: O(1)\n"
   ]
  },
  {
   "cell_type": "code",
   "execution_count": 28,
   "metadata": {},
   "outputs": [
    {
     "name": "stdout",
     "output_type": "stream",
     "text": [
      "Initial queue\n",
      "['g', 'f', 'g']\n",
      "\n",
      "Elements dequeued from queue\n",
      "g\n",
      "f\n",
      "g\n",
      "\n",
      "Queue after removing elements\n",
      "[]\n"
     ]
    }
   ],
   "source": [
    "queue = []\n",
    "\n",
    "# Adding elements to the queue\n",
    "queue.append('g')\n",
    "queue.append('f')\n",
    "queue.append('g')\n",
    "\n",
    "print(\"Initial queue\")\n",
    "print(queue)\n",
    "\n",
    "# Removing elements from the queue\n",
    "print(\"\\nElements dequeued from queue\")\n",
    "print(queue.pop(0))\n",
    "print(queue.pop(0))\n",
    "print(queue.pop(0))\n",
    "\n",
    "print(\"\\nQueue after removing elements\")\n",
    "print(queue)\n",
    "\n",
    "# Uncommenting print(queue.pop(0))\n",
    "# will raise and IndexError\n",
    "# as the queue is now empty"
   ]
  },
  {
   "cell_type": "markdown",
   "metadata": {},
   "source": [
    "### Priority Queue\n",
    "\n",
    "- Abstract data structures where each data/value in the queue has a certain priority\n",
    "\n",
    "Priority Queue is an extension of the queue with the following properties: \n",
    "- An element with high priority is dequeued before an element with low priority.\n",
    "- If two elements have the same priority, they are served according to their order in the queue."
   ]
  },
  {
   "cell_type": "code",
   "execution_count": 29,
   "metadata": {},
   "outputs": [
    {
     "name": "stdout",
     "output_type": "stream",
     "text": [
      "12 1 14 7\n",
      "14\n",
      "12\n",
      "7\n",
      "1\n"
     ]
    }
   ],
   "source": [
    "class PriorityQueue(object):\n",
    "    def __init__(self):\n",
    "        self.queue = []\n",
    "\n",
    "    def __str__(self):\n",
    "        return ' '.join([str(i) for i in self.queue])\n",
    "\n",
    "    # for checking if the queue is empty\n",
    "    def isEmpty(self):\n",
    "        return len(self.queue) == 0\n",
    "\n",
    "    # for inserting an element in the queue\n",
    "    def insert(self, data):\n",
    "        self.queue.append(data)\n",
    "\n",
    "    # for popping an element based on Priority\n",
    "    def delete(self):\n",
    "        try:\n",
    "            max = 0\n",
    "            for i in range(len(self.queue)):\n",
    "                if self.queue[i] > self.queue[max]:\n",
    "                    max = i\n",
    "            item = self.queue[max]\n",
    "            del self.queue[max]\n",
    "            return item\n",
    "        except IndexError:\n",
    "            print()\n",
    "            exit()\n",
    "\n",
    "if __name__ == '__main__':\n",
    "    myQueue = PriorityQueue()\n",
    "    myQueue.insert(12)\n",
    "    myQueue.insert(1)\n",
    "    myQueue.insert(14)\n",
    "    myQueue.insert(7)\n",
    "    print(myQueue)        \n",
    "    while not myQueue.isEmpty():\n",
    "        print(myQueue.delete())"
   ]
  },
  {
   "cell_type": "markdown",
   "metadata": {},
   "source": [
    "## Heap\n",
    "\n",
    "- it always gives the smallest element (min heap) whenever the element is popped.\n",
    "- Whenever elements are pushed or popped, heap structure is maintained.\n",
    "- The heap[0] element also returns the smallest element each time\n",
    "\n",
    "**Heaps can be of two types:**\n",
    "\n",
    "- **Max-Heap:**  the key present at the root node must be greatest among the keys present at all of it’s children\n",
    "- **Min-Heap:** the key present at the root node must be minimum among the keys present at all of it’s children\n",
    "\n",
    "<center>\n",
    "<img src=\"https://media.geeksforgeeks.org/wp-content/cdn-uploads/MinHeapAndMaxHeap.png\" style=\"width:525px;heigth:75px\">\n",
    "</center>"
   ]
  },
  {
   "cell_type": "code",
   "execution_count": 30,
   "metadata": {},
   "outputs": [
    {
     "name": "stdout",
     "output_type": "stream",
     "text": [
      "The created heap is : [1, 3, 9, 7, 5]\n",
      "The modified heap after push is : [1, 3, 4, 7, 5, 9]\n",
      "The popped and smallest element is : 1\n"
     ]
    }
   ],
   "source": [
    "# importing \"heapq\" to implement heap queue\n",
    "import heapq\n",
    "\n",
    "# initializing list\n",
    "li = [5, 7, 9, 1, 3]\n",
    "\n",
    "# using heapify to convert list into heap\n",
    "heapq.heapify(li)\n",
    "\n",
    "# printing created heap\n",
    "print (\"The created heap is : \",end=\"\")\n",
    "print (list(li))\n",
    "\n",
    "# using heappush() to push elements into heap\n",
    "# pushes 4\n",
    "heapq.heappush(li,4)\n",
    "\n",
    "# printing modified heap\n",
    "print (\"The modified heap after push is : \",end=\"\")\n",
    "print (list(li))\n",
    "\n",
    "# using heappop() to pop smallest element\n",
    "print (\"The popped and smallest element is : \",end=\"\")\n",
    "print (heapq.heappop(li))"
   ]
  },
  {
   "cell_type": "markdown",
   "metadata": {},
   "source": [
    "## Binary Tree\n",
    "\n",
    "- A tree is a  **hierarchical** data structure\n",
    "- topmost node of the tree is called the **root**\n",
    "- the bottommost nodes or the nodes with no children are called the **leaf nodes**\n",
    "- elements can have almost two children, we typically name them the left and right children"
   ]
  },
  {
   "cell_type": "code",
   "execution_count": 34,
   "metadata": {},
   "outputs": [],
   "source": [
    "# in a Binary Tree\n",
    "class Node:\n",
    "    def __init__(self,key):\n",
    "        self.left = None\n",
    "        self.right = None\n",
    "        self.val = key\n",
    "# create root\n",
    "root = Node(1)\n",
    "root.left     = Node(2)\n",
    "root.right     = Node(3)\n",
    "root.left.left = Node(4)"
   ]
  },
  {
   "cell_type": "markdown",
   "metadata": {},
   "source": [
    "**Algorithm Inorder(tree)**\n",
    "\n",
    "- Traverse the left subtree, i.e., call Inorder(left-subtree)\n",
    "- Visit the root.\n",
    "- Traverse the right subtree, i.e., call Inorder(right-subtree)"
   ]
  },
  {
   "cell_type": "code",
   "execution_count": 35,
   "metadata": {},
   "outputs": [],
   "source": [
    "# A function to do inorder tree traversal\n",
    "def printInorder(root):\n",
    "\n",
    "    if root:\n",
    "\n",
    "        # First recur on left child\n",
    "        printInorder(root.left)\n",
    "\n",
    "        # then print the data of node\n",
    "        print(root.val)\n",
    "\n",
    "        # now recur on right child\n",
    "        printInorder(root.right)"
   ]
  },
  {
   "cell_type": "markdown",
   "metadata": {},
   "source": [
    "**Algorithm Preorder(tree)**\n",
    "- Visit the root.\n",
    "- Traverse the left subtree, i.e., call Preorder(left-subtree)\n",
    "- Traverse the right subtree, i.e., call Preorder(right-subtree)"
   ]
  },
  {
   "cell_type": "code",
   "execution_count": 36,
   "metadata": {},
   "outputs": [],
   "source": [
    "# A function to do preorder tree traversal\n",
    "def printPreorder(root):\n",
    "\n",
    "    if root:\n",
    "\n",
    "        # First print the data of node\n",
    "        print(root.val)\n",
    "        \n",
    "        # Then recur on left child\n",
    "        printPreorder(root.left)\n",
    "\n",
    "        # Finally recur on right child\n",
    "        printPreorder(root.right)"
   ]
  },
  {
   "cell_type": "markdown",
   "metadata": {},
   "source": [
    "**Algorithm Postorder(tree)**\n",
    "\n",
    "- Traverse the left subtree, i.e., call Postorder(left-subtree)\n",
    "- Traverse the right subtree, i.e., call Postorder(right-subtree)\n",
    "- Visit the root."
   ]
  },
  {
   "cell_type": "code",
   "execution_count": 37,
   "metadata": {},
   "outputs": [],
   "source": [
    "def printPostorder(root):\n",
    "\n",
    "    if root:\n",
    "\n",
    "        # First recur on left child\n",
    "        printPostorder(root.left)\n",
    "\n",
    "        # the recur on right child\n",
    "        printPostorder(root.right)\n",
    "\n",
    "        # now print the data of node\n",
    "        print(root.val),"
   ]
  },
  {
   "cell_type": "code",
   "execution_count": 43,
   "metadata": {},
   "outputs": [
    {
     "name": "stdout",
     "output_type": "stream",
     "text": [
      "Preorder traversal of binary tree is\n",
      "1\n",
      "2\n",
      "4\n",
      "5\n",
      "3\n",
      "\n",
      " Inorder traversal of binary tree is\n",
      "4\n",
      "2\n",
      "5\n",
      "1\n",
      "3\n",
      "\\ Postorder traversal of binary tree is\n",
      "4\n",
      "5\n",
      "2\n",
      "3\n",
      "1\n"
     ]
    }
   ],
   "source": [
    "\n",
    "# Driver code\n",
    "root = Node(1)\n",
    "root.left = Node(2)\n",
    "root.right = Node(3)\n",
    "root.left.left = Node(4)\n",
    "root.left.right = Node(5)\n",
    "\n",
    "print(\"Preorder traversal of binary tree is\")\n",
    "printPreorder(root)\n",
    "\n",
    "print(\"\\n Inorder traversal of binary tree is\")\n",
    "printInorder(root)\n",
    "\n",
    "print(\"\\ Postorder traversal of binary tree is\")\n",
    "printPostorder(root)"
   ]
  },
  {
   "cell_type": "markdown",
   "metadata": {},
   "source": [
    "## Binary Search Tree\n",
    "\n",
    "is a node-based binary tree data structure that has the following properties:\n",
    "\n",
    "- The left subtree of a node contains only nodes with keys lesser than the node’s key.\n",
    "- The right subtree of a node contains only nodes with keys greater than the node’s key.\n",
    "- The left and right subtree each must also be a binary search tree.\n",
    "\n",
    "The above properties of the Binary Search Tree provide an ordering among keys so that the operations like search, minimum and maximum can be done fast"
   ]
  },
  {
   "cell_type": "code",
   "execution_count": 44,
   "metadata": {},
   "outputs": [],
   "source": [
    "# A utility function to search a given key in BST\n",
    "def search(root,key):\n",
    "    \n",
    "    # Base Cases: root is null or key is present at root\n",
    "    if root is None or root.val == key:\n",
    "        return root\n",
    "\n",
    "    # Key is greater than root's key\n",
    "    if root.val < key:\n",
    "        return search(root.right,key)\n",
    "\n",
    "    # Key is smaller than root's key\n",
    "    return search(root.left,key)"
   ]
  },
  {
   "cell_type": "code",
   "execution_count": 46,
   "metadata": {},
   "outputs": [
    {
     "name": "stdout",
     "output_type": "stream",
     "text": [
      "20\n",
      "30\n",
      "40\n",
      "50\n",
      "60\n",
      "70\n",
      "80\n"
     ]
    }
   ],
   "source": [
    "class Node:\n",
    "    def __init__(self, key):\n",
    "        self.left = None\n",
    "        self.right = None\n",
    "        self.val = key\n",
    "\n",
    "# A utility function to insert\n",
    "# a new node with the given key\n",
    "def insert(root, key):\n",
    "    if root is None:\n",
    "        return Node(key)\n",
    "    else:\n",
    "        if root.val == key:\n",
    "            return root\n",
    "        elif root.val < key:\n",
    "            root.right = insert(root.right, key)\n",
    "        else:\n",
    "            root.left = insert(root.left, key)\n",
    "    return root\n",
    "\n",
    "# A utility function to do inorder tree traversal\n",
    "def inorder(root):\n",
    "    if root:\n",
    "        inorder(root.left)\n",
    "        print(root.val)\n",
    "        inorder(root.right)\n",
    "        \n",
    "r = Node(50)\n",
    "r = insert(r, 30)\n",
    "r = insert(r, 20)\n",
    "r = insert(r, 40)\n",
    "r = insert(r, 70)\n",
    "r = insert(r, 60)\n",
    "r = insert(r, 80)\n",
    "\n",
    "# Print inorder traversal of the BST\n",
    "inorder(r)"
   ]
  },
  {
   "cell_type": "markdown",
   "metadata": {},
   "source": [
    "## Graphs\n",
    "\n",
    "- nonlinear data structure consisting of nodes and edges\n",
    "- edges are lines or arcs that connect any two nodes in the graph\n",
    "- Graph can be defined as a Graph consisting of a finite set of vertices(or nodes) and a set of edges that connect a pair of nodes.\n",
    "\n",
    "<center>\n",
    "<img src=\"https://media.geeksforgeeks.org/wp-content/cdn-uploads/undirectedgraph.png\" style=\"width:525px;heigth:75px\">\n",
    "</center>\n",
    "\n",
    "In the above Graph, the set of vertices V = {0,1,2,3,4} and the set of edges E = {01, 12, 23, 34, 04, 14, 13}. The following two are the most commonly used representations of a graph.\n",
    "\n",
    "- Adjacency Matrix\n",
    "- Adjacency List"
   ]
  },
  {
   "cell_type": "markdown",
   "metadata": {},
   "source": [
    "### Adjacency Matrix \n",
    "- 2D array of size V x V where V is the number of vertices in a graph\n",
    "- Let the 2D array be adj[][], a slot adj[i][j] = 1 indicates that there is an edge from vertex i to vertex j\n",
    "- adjacency matrix for an undirected graph is always symmetric\n",
    "- Adjacency Matrix is also used to represent weighted graphs. If adj[i][j] = w, then there is an edge from vertex i to vertex j with weight w. "
   ]
  },
  {
   "cell_type": "code",
   "execution_count": 47,
   "metadata": {},
   "outputs": [
    {
     "name": "stdout",
     "output_type": "stream",
     "text": [
      "Vertices of Graph\n",
      "['a', 'b', 'c', 'd', 'e', 'f']\n",
      "Edges of Graph\n",
      "[('a', 'c', 20), ('a', 'e', 10), ('b', 'c', 30), ('b', 'e', 40), ('c', 'a', 20), ('c', 'b', 30), ('d', 'e', 50), ('e', 'a', 10), ('e', 'b', 40), ('e', 'd', 50), ('e', 'f', 60), ('f', 'e', 60)]\n",
      "Adjacency Matrix of Graph\n",
      "[[-1, -1, 20, -1, 10, -1], [-1, -1, 30, -1, 40, -1], [20, 30, -1, -1, -1, -1], [-1, -1, -1, -1, 50, -1], [10, 40, -1, 50, -1, 60], [-1, -1, -1, -1, 60, -1]]\n"
     ]
    }
   ],
   "source": [
    "class Graph:\n",
    "    def __init__(self,numvertex):\n",
    "        self.adjMatrix = [[-1]*numvertex for x in range(numvertex)]\n",
    "        self.numvertex = numvertex\n",
    "        self.vertices = {}\n",
    "        self.verticeslist =[0]*numvertex\n",
    "\n",
    "    def set_vertex(self,vtx,id):\n",
    "        if 0<=vtx<=self.numvertex:\n",
    "            self.vertices[id] = vtx\n",
    "            self.verticeslist[vtx] = id\n",
    "\n",
    "    def set_edge(self,frm,to,cost=0):\n",
    "        frm = self.vertices[frm]\n",
    "        to = self.vertices[to]\n",
    "        self.adjMatrix[frm][to] = cost\n",
    "        \n",
    "        # for directed graph do not add this\n",
    "        self.adjMatrix[to][frm] = cost\n",
    "\n",
    "    def get_vertex(self):\n",
    "        return self.verticeslist\n",
    "\n",
    "    def get_edges(self):\n",
    "        edges=[]\n",
    "        for i in range (self.numvertex):\n",
    "            for j in range (self.numvertex):\n",
    "                if (self.adjMatrix[i][j]!=-1):\n",
    "                    edges.append((self.verticeslist[i],self.verticeslist[j],self.adjMatrix[i][j]))\n",
    "        return edges\n",
    "        \n",
    "    def get_matrix(self):\n",
    "        return self.adjMatrix\n",
    "\n",
    "G =Graph(6)\n",
    "G.set_vertex(0,'a')\n",
    "G.set_vertex(1,'b')\n",
    "G.set_vertex(2,'c')\n",
    "G.set_vertex(3,'d')\n",
    "G.set_vertex(4,'e')\n",
    "G.set_vertex(5,'f')\n",
    "G.set_edge('a','e',10)\n",
    "G.set_edge('a','c',20)\n",
    "G.set_edge('c','b',30)\n",
    "G.set_edge('b','e',40)\n",
    "G.set_edge('e','d',50)\n",
    "G.set_edge('f','e',60)\n",
    "\n",
    "print(\"Vertices of Graph\")\n",
    "print(G.get_vertex())\n",
    "\n",
    "print(\"Edges of Graph\")\n",
    "print(G.get_edges())\n",
    "\n",
    "print(\"Adjacency Matrix of Graph\")\n",
    "print(G.get_matrix())"
   ]
  }
 ],
 "metadata": {
  "kernelspec": {
   "display_name": "Python 3",
   "language": "python",
   "name": "python3"
  },
  "language_info": {
   "codemirror_mode": {
    "name": "ipython",
    "version": 3
   },
   "file_extension": ".py",
   "mimetype": "text/x-python",
   "name": "python",
   "nbconvert_exporter": "python",
   "pygments_lexer": "ipython3",
   "version": "3.10.11"
  }
 },
 "nbformat": 4,
 "nbformat_minor": 2
}
